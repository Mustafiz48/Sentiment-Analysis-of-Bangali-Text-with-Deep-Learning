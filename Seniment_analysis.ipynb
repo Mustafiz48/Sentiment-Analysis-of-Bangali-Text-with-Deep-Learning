{
  "nbformat": 4,
  "nbformat_minor": 0,
  "metadata": {
    "colab": {
      "name": "Seniment_analysis.ipynb",
      "provenance": [],
      "collapsed_sections": []
    },
    "kernelspec": {
      "name": "python3",
      "display_name": "Python 3.9.5 64-bit"
    },
    "language_info": {
      "codemirror_mode": {
        "name": "ipython",
        "version": 3
      },
      "file_extension": ".py",
      "mimetype": "text/x-python",
      "name": "python",
      "nbconvert_exporter": "python",
      "pygments_lexer": "ipython3",
      "version": "3.9.5"
    },
    "interpreter": {
      "hash": "c14d9d0eeb2f1c6cfd6fcd905562e8d91fc10062278dc2a77fcc9d4f21b13f83"
    }
  },
  "cells": [
    {
      "cell_type": "markdown",
      "metadata": {
        "id": "RY72tV-4cJpu"
      },
      "source": [
        "# Sentiment Analysis of Bengali Texts\n",
        "We will go through all the steps towards Sentiment Analaysis of Bengali Language with Deep Learning Model. \n",
        "\n",
        "There are very few published works on this topic. Specially when I was working with Sentiment Analysis of Bengali Language for my final year's thesis I didn't find any stuctured work that will lead me from scratch to results. So I am writting the code bellow that will lead from loading dataset to constructing model, to make prediction with te model.\n",
        "\n",
        "Withot further discussion, let's dive into code. I will be writing the code in google colab. So if you run in your local environment make sure you have installed all the packages/modules. And All my files will be uploaded from drive. You can try it with your own dataset if you want."
      ]
    },
    {
      "cell_type": "markdown",
      "metadata": {
        "id": "ISaHhbcqGzYq"
      },
      "source": [
        "First, let's Check if the colab GPU is connected, execute following code"
      ]
    },
    {
      "cell_type": "code",
      "metadata": {
        "colab": {
          "base_uri": "https://localhost:8080/"
        },
        "id": "lIIKLzoNb5D_",
        "outputId": "7fecde8f-cabd-48f7-b4c3-0034e32f5853"
      },
      "source": [
        "%tensorflow_version 2.x\n",
        "import tensorflow as tf\n",
        "device_name = tf.test.gpu_device_name()\n",
        "if device_name != '/device:GPU:0':\n",
        "  raise SystemError('GPU device not found')\n",
        "print('Found GPU at: {}'.format(device_name))"
      ],
      "execution_count": 1,
      "outputs": [
        {
          "output_type": "stream",
          "text": [
            "Found GPU at: /device:GPU:0\n"
          ],
          "name": "stdout"
        }
      ]
    },
    {
      "cell_type": "markdown",
      "metadata": {
        "id": "2c2wkasMfPYL"
      },
      "source": [
        "Let's import neessary libraries"
      ]
    },
    {
      "cell_type": "code",
      "metadata": {
        "id": "0YVoyJ6T54LX"
      },
      "source": [
        "import tensorflow as tf\n",
        "import pandas as pd\n",
        "import numpy as np\n",
        "import re\n",
        "import nltk\n",
        "from nltk.corpus import stopwords\n",
        "\n",
        "from numpy import array\n",
        "from keras.preprocessing.text import one_hot\n",
        "from keras.preprocessing.sequence import pad_sequences\n",
        "from keras.models import Sequential\n",
        "from keras.layers.core import Activation, Dropout, Dense\n",
        "from keras.layers import Flatten\n",
        "from keras.layers import GlobalMaxPooling1D,Conv1D\n",
        "from keras.layers.embeddings import Embedding\n",
        "from sklearn.model_selection import train_test_split\n",
        "from keras.preprocessing.text import Tokenizer\n",
        "\n",
        "\n",
        "\n",
        "seed = 42\n",
        "tf.random.set_seed(seed)\n",
        "np.random.seed(seed)"
      ],
      "execution_count": null,
      "outputs": []
    },
    {
      "cell_type": "markdown",
      "metadata": {
        "id": "-cdoEsh8fWOb"
      },
      "source": [
        "# BNLP Toolkit\n",
        "\n",
        "Before feeding data to a Neural Network, we need to prepare the data for the neural network. To remove noise from the data, and to make it fit for the neural network, we will go throuth several steps \n",
        "\n",
        "In the first steps of prepocessing, BNLP tool kit will help us. We will use it for POS tagging, punctuation removal."
      ]
    },
    {
      "cell_type": "code",
      "metadata": {
        "colab": {
          "base_uri": "https://localhost:8080/"
        },
        "id": "woctkktE-HMa",
        "outputId": "d3bdb22f-d2e9-4ae1-e503-1490b56b170b"
      },
      "source": [
        "!pip install bnlp_toolkit\n"
      ],
      "execution_count": null,
      "outputs": [
        {
          "output_type": "stream",
          "text": [
            "Collecting bnlp_toolkit\n",
            "  Downloading https://files.pythonhosted.org/packages/1e/ad/756187f1c389b752abca35946318e4aa7205daa6bedb539441acd66a11f7/bnlp_toolkit-3.1.1-py3-none-any.whl\n",
            "Requirement already satisfied: scipy in /usr/local/lib/python3.7/dist-packages (from bnlp_toolkit) (1.4.1)\n",
            "Requirement already satisfied: numpy in /usr/local/lib/python3.7/dist-packages (from bnlp_toolkit) (1.19.5)\n",
            "Collecting sentencepiece\n",
            "\u001b[?25l  Downloading https://files.pythonhosted.org/packages/f5/99/e0808cb947ba10f575839c43e8fafc9cc44e4a7a2c8f79c60db48220a577/sentencepiece-0.1.95-cp37-cp37m-manylinux2014_x86_64.whl (1.2MB)\n",
            "\u001b[K     |████████████████████████████████| 1.2MB 37.5MB/s \n",
            "\u001b[?25hRequirement already satisfied: nltk in /usr/local/lib/python3.7/dist-packages (from bnlp_toolkit) (3.2.5)\n",
            "Collecting sklearn-crfsuite\n",
            "  Downloading https://files.pythonhosted.org/packages/25/74/5b7befa513482e6dee1f3dd68171a6c9dfc14c0eaa00f885ffeba54fe9b0/sklearn_crfsuite-0.3.6-py2.py3-none-any.whl\n",
            "Requirement already satisfied: wasabi in /usr/local/lib/python3.7/dist-packages (from bnlp_toolkit) (0.8.2)\n",
            "Collecting gensim==4.0.1\n",
            "\u001b[?25l  Downloading https://files.pythonhosted.org/packages/44/52/f1417772965652d4ca6f901515debcd9d6c5430969e8c02ee7737e6de61c/gensim-4.0.1-cp37-cp37m-manylinux1_x86_64.whl (23.9MB)\n",
            "\u001b[K     |████████████████████████████████| 23.9MB 116kB/s \n",
            "\u001b[?25hRequirement already satisfied: six in /usr/local/lib/python3.7/dist-packages (from nltk->bnlp_toolkit) (1.15.0)\n",
            "Requirement already satisfied: tqdm>=2.0 in /usr/local/lib/python3.7/dist-packages (from sklearn-crfsuite->bnlp_toolkit) (4.41.1)\n",
            "Requirement already satisfied: tabulate in /usr/local/lib/python3.7/dist-packages (from sklearn-crfsuite->bnlp_toolkit) (0.8.9)\n",
            "Collecting python-crfsuite>=0.8.3\n",
            "\u001b[?25l  Downloading https://files.pythonhosted.org/packages/79/47/58f16c46506139f17de4630dbcfb877ce41a6355a1bbf3c443edb9708429/python_crfsuite-0.9.7-cp37-cp37m-manylinux1_x86_64.whl (743kB)\n",
            "\u001b[K     |████████████████████████████████| 747kB 39.1MB/s \n",
            "\u001b[?25hRequirement already satisfied: smart-open>=1.8.1 in /usr/local/lib/python3.7/dist-packages (from gensim==4.0.1->bnlp_toolkit) (5.1.0)\n",
            "Installing collected packages: sentencepiece, python-crfsuite, sklearn-crfsuite, gensim, bnlp-toolkit\n",
            "  Found existing installation: gensim 3.6.0\n",
            "    Uninstalling gensim-3.6.0:\n",
            "      Successfully uninstalled gensim-3.6.0\n",
            "Successfully installed bnlp-toolkit-3.1.1 gensim-4.0.1 python-crfsuite-0.9.7 sentencepiece-0.1.95 sklearn-crfsuite-0.3.6\n"
          ],
          "name": "stdout"
        }
      ]
    },
    {
      "cell_type": "code",
      "metadata": {
        "colab": {
          "base_uri": "https://localhost:8080/"
        },
        "id": "ZXgXMrK9ANEu",
        "outputId": "9dd8ee05-2ed9-41cf-eeaf-8b1e5436d188"
      },
      "source": [
        "print(tf.keras.__version__)\n",
        "print(tf.__version__)\n",
        "!python --version"
      ],
      "execution_count": null,
      "outputs": [
        {
          "output_type": "stream",
          "text": [
            "2.5.0\n",
            "2.5.0\n",
            "Python 3.7.10\n"
          ],
          "name": "stdout"
        }
      ]
    },
    {
      "cell_type": "markdown",
      "metadata": {
        "id": "MmzG5v1lp84S"
      },
      "source": [
        "# Dataset\n",
        "The following blocks will load the dataset and we'll se their shapes.\n",
        "\n",
        "I have used \"Bengali Book Review Dataset\" which was published by E. Hossain and his team. Thanks to them. Go google for it and you will find the dataset. I am not providing the original dataset here for some reason.\n",
        "\n",
        "\n",
        "N.B.: I am loading data from my google drive. Make sure you give appropriate path to your dataset"
      ]
    },
    {
      "cell_type": "code",
      "metadata": {
        "colab": {
          "base_uri": "https://localhost:8080/"
        },
        "id": "BgmuwajE8hcu",
        "outputId": "76acb8ab-2bcf-447c-ed90-a123874f85fe"
      },
      "source": [
        "from google.colab import drive\n",
        "drive.mount('/content/drive')"
      ],
      "execution_count": null,
      "outputs": [
        {
          "output_type": "stream",
          "text": [
            "Drive already mounted at /content/drive; to attempt to forcibly remount, call drive.mount(\"/content/drive\", force_remount=True).\n"
          ],
          "name": "stdout"
        }
      ]
    },
    {
      "cell_type": "code",
      "metadata": {
        "colab": {
          "base_uri": "https://localhost:8080/"
        },
        "id": "4ZOI6C6R54Lo",
        "outputId": "329894ac-e6d0-493f-a5fb-f562aacd4055"
      },
      "source": [
        "movie_reviews = pd.read_excel(r\"/content/drive/My Drive/Thesis/bookReviews_2000.xlsx\")\n",
        "\n",
        "movie_reviews.isnull().values.any()\n",
        "\n",
        "movie_reviews.shape"
      ],
      "execution_count": null,
      "outputs": [
        {
          "output_type": "execute_result",
          "data": {
            "text/plain": [
              "(2011, 3)"
            ]
          },
          "metadata": {
            "tags": []
          },
          "execution_count": 6
        }
      ]
    },
    {
      "cell_type": "code",
      "metadata": {
        "colab": {
          "base_uri": "https://localhost:8080/",
          "height": 204
        },
        "id": "4xD6gFKO54Lu",
        "outputId": "c04039a1-a296-4650-de3a-4b2c9844dfd1"
      },
      "source": [
        "movie_reviews.head()"
      ],
      "execution_count": null,
      "outputs": [
        {
          "output_type": "execute_result",
          "data": {
            "text/html": [
              "<div>\n",
              "<style scoped>\n",
              "    .dataframe tbody tr th:only-of-type {\n",
              "        vertical-align: middle;\n",
              "    }\n",
              "\n",
              "    .dataframe tbody tr th {\n",
              "        vertical-align: top;\n",
              "    }\n",
              "\n",
              "    .dataframe thead th {\n",
              "        text-align: right;\n",
              "    }\n",
              "</style>\n",
              "<table border=\"1\" class=\"dataframe\">\n",
              "  <thead>\n",
              "    <tr style=\"text-align: right;\">\n",
              "      <th></th>\n",
              "      <th>Unnamed: 0</th>\n",
              "      <th>Review</th>\n",
              "      <th>Sentiment</th>\n",
              "    </tr>\n",
              "  </thead>\n",
              "  <tbody>\n",
              "    <tr>\n",
              "      <th>0</th>\n",
              "      <td>0</td>\n",
              "      <td>বই টি আমার সংগ্রহে আছে এবং তা আমি পড়েছি। বই টি...</td>\n",
              "      <td>0</td>\n",
              "    </tr>\n",
              "    <tr>\n",
              "      <th>1</th>\n",
              "      <td>1</td>\n",
              "      <td>ফালতু বই। শুধু শুধু টাকা নষ্ট।</td>\n",
              "      <td>0</td>\n",
              "    </tr>\n",
              "    <tr>\n",
              "      <th>2</th>\n",
              "      <td>2</td>\n",
              "      <td>একটু পড়ে দেখতে বলসিলো, একটু পড়লাম। তারপর হড়হড় ...</td>\n",
              "      <td>0</td>\n",
              "    </tr>\n",
              "    <tr>\n",
              "      <th>3</th>\n",
              "      <td>3</td>\n",
              "      <td>এটা কোন বই? ছিঃ ধিকার জানায়। প্রশাসনের নজর দেয়...</td>\n",
              "      <td>0</td>\n",
              "    </tr>\n",
              "    <tr>\n",
              "      <th>4</th>\n",
              "      <td>4</td>\n",
              "      <td>প্রিয় রকমারি.কম, দয়া করে বইটি আপনাদের ওয়েবসাইট...</td>\n",
              "      <td>0</td>\n",
              "    </tr>\n",
              "  </tbody>\n",
              "</table>\n",
              "</div>"
            ],
            "text/plain": [
              "   Unnamed: 0                                             Review  Sentiment\n",
              "0           0  বই টি আমার সংগ্রহে আছে এবং তা আমি পড়েছি। বই টি...          0\n",
              "1           1                     ফালতু বই। শুধু শুধু টাকা নষ্ট।          0\n",
              "2           2  একটু পড়ে দেখতে বলসিলো, একটু পড়লাম। তারপর হড়হড় ...          0\n",
              "3           3  এটা কোন বই? ছিঃ ধিকার জানায়। প্রশাসনের নজর দেয়...          0\n",
              "4           4  প্রিয় রকমারি.কম, দয়া করে বইটি আপনাদের ওয়েবসাইট...          0"
            ]
          },
          "metadata": {
            "tags": []
          },
          "execution_count": 7
        }
      ]
    },
    {
      "cell_type": "code",
      "metadata": {
        "id": "HWBWCo4654L1"
      },
      "source": [
        "#movie_reviews[\"Text\"][3]"
      ],
      "execution_count": null,
      "outputs": []
    },
    {
      "cell_type": "code",
      "metadata": {
        "colab": {
          "base_uri": "https://localhost:8080/",
          "height": 279
        },
        "id": "FGgaF64o54L6",
        "outputId": "66b96128-1ac1-46e8-e5b3-ad6b95cd92c8"
      },
      "source": [
        "import seaborn as sns\n",
        "\n",
        "sns_plot=sns.countplot(x='Sentiment', data=movie_reviews)\n",
        "fig = sns_plot.get_figure()\n",
        "fig.savefig(\"data_shape.png\")"
      ],
      "execution_count": null,
      "outputs": [
        {
          "output_type": "display_data",
          "data": {
            "image/png": "[encoded data removed]",
            "text/plain": [
              "<Figure size 432x288 with 1 Axes>"
            ]
          },
          "metadata": {
            "tags": []
          }
        }
      ]
    },
    {
      "cell_type": "code",
      "metadata": {
        "id": "LWob8mCe54MG"
      },
      "source": [
        "def preprocess_text(sen):\n",
        "    # Removing html tags\n",
        "    sentence = remove_tags(sen)\n",
        "    \n",
        "    # Removing multiple spaces\n",
        "    sentence = re.sub(r'\\s+', ' ', sentence)\n",
        "\n",
        "    return sentence"
      ],
      "execution_count": null,
      "outputs": []
    },
    {
      "cell_type": "code",
      "metadata": {
        "id": "i4dcwD8W54MN"
      },
      "source": [
        "TAG_RE = re.compile(r'<[^>]+>')\n",
        "\n",
        "def remove_tags(text):\n",
        "    return TAG_RE.sub('', text)"
      ],
      "execution_count": null,
      "outputs": []
    },
    {
      "cell_type": "code",
      "metadata": {
        "id": "00-DdHk854MR"
      },
      "source": [
        "Z=[]\n",
        "Sent=[]\n",
        "sentence_tokens_list = []\n",
        "word_tokens_list = []\n",
        "pos_tags_list = []\n",
        "sentences = []\n",
        "\n",
        "sentence_tokens_list.clear()\n",
        "word_tokens_list.clear()\n",
        "pos_tags_list.clear()\n",
        "sentences.clear()\n",
        "\n",
        "\n",
        "sentence = list(movie_reviews['Review'])\n",
        "\n",
        "for sen in sentence:\n",
        "    sentences.append(preprocess_text(sen))\n"
      ],
      "execution_count": null,
      "outputs": []
    },
    {
      "cell_type": "code",
      "metadata": {
        "colab": {
          "base_uri": "https://localhost:8080/"
        },
        "id": "9iotJG2254MY",
        "outputId": "46c1bc8c-8d20-4739-83db-3ffd4c5782f7"
      },
      "source": [
        "print(sentences[:5])"
      ],
      "execution_count": null,
      "outputs": [
        {
          "output_type": "stream",
          "text": [
            "['বই টি আমার সংগ্রহে আছে এবং তা আমি পড়েছি। বই টি সম্পর্কে যদি এক কথায় বলতে হয় তবে বলবো মন্দের ভালো । খুবই সাধারন মানের আলোচনা করা হয়েছে ফরেক্স নিয়ে,তবে অপ্রয়োজনীয় গল্প লিখে আর নিজের প্রকাশিত বইয়ের বিজ্ঞাপন দিযে বইয়ের পেজের সংখ্যা বাড়ানো হয়েছে শুধু , কয়েকটি উদাহরন দিলে বুঝতে পারবে : ফরেন রেমিটেন্স কি,কিভাবে দেশের কাজে লাগে,কিভাবে ইমেল এড্রেস খুলতে হয় এসব আলাপ করা হয়েছে, কিন্তু লেখক তার বই তে ডিফল্ট করা কোন ইন্ডিকেটর,ই.এ,ট্রেডিং প্ল্যান, মানি মেনেজমেন্টে ইত্যাদি নিয়ে এক বর্ন আলোচনা করেন নাই। এমন কি ট্রেডিং প্লাটফর্মের বিভিন্ন অপশন নিয়ে দায়সারা বর্নণা দিয়েছেন, সাথে রয়েছে অসংখ্য বানান ভুল। বইয়ের ৪৭৯ টি পেজের মধ্য ৩২২ থেকে ৪৭৯ নাম্বার পেজ পর্যন্ত ১৫৭ টি পেজে যা রয়েছে তা ‘অতিকথন’ বা “পুনরায় প্রচার” ছাড়া কিছুই না ।একটি টিউটোরিয়াল সিডি দেয়া হয়েছে, তা অতি স্বল্প আলোচনা করা হয়েছে।', 'ফালতু বই। শুধু শুধু টাকা নষ্ট।', 'একটু পড়ে দেখতে বলসিলো, একটু পড়লাম। তারপর হড়হড় করে বমি করে দিলাম। কেনার সাহস পাই নি। রিভিউতে আর নাই গেলাম। অনেকে রিভিউ দিছে। শুধু এইটুকু বলবো, দিনশেষে এদের রিভিউ দিয়ে থামানো যাবেনা। এরা কেয়ার করে নাকে কি বললো না বললো।', 'এটা কোন বই? ছিঃ ধিকার জানায়। প্রশাসনের নজর দেয়া উচিৎ কোন বই ২১ শে বই মেলায় পাবলিশ হচ্ছে। সেটা কতটা মান সম্পূর্ণ। আর রকমারিরও উচিৎ ছিল, এমন বই তাদের ওয়েবসাইটে পাবলিশ না করা।', 'প্রিয় রকমারি.কম, দয়া করে বইটি আপনাদের ওয়েবসাইট থেকে সরিয়ে ফেলুন। বড্ড বেমানান দেখাচ্ছে এই বাংলিশ বইটিকে।']\n"
          ],
          "name": "stdout"
        }
      ]
    },
    {
      "cell_type": "code",
      "metadata": {
        "id": "R6XmeeDV54Mc"
      },
      "source": [
        "# X.clear()\n",
        "\n",
        "Z.clear()\n",
        "\n",
        "Sent.clear()\n"
      ],
      "execution_count": null,
      "outputs": []
    },
    {
      "cell_type": "markdown",
      "metadata": {
        "id": "CiG0TelSqUZz"
      },
      "source": [
        "# POS tagging and Punctuation Removal\n",
        "\n",
        "In the following code, we will first have word tokens from each sentance with the help of BNLP toolkit. Then with POS tagging, we'll detect punctuations and remove them. "
      ]
    },
    {
      "cell_type": "code",
      "metadata": {
        "colab": {
          "base_uri": "https://localhost:8080/"
        },
        "id": "cSAvOONf54Mh",
        "outputId": "4d2b2cae-8067-42b9-d56e-6a1fa2c4f158"
      },
      "source": [
        "import nltk\n",
        "nltk.download('punkt')\n",
        "# X.clear()\n",
        "Z.clear()\n",
        "local_pos_tags = []\n",
        "local_pos_tags.clear()\n",
        "pos_tags_list.clear()\n",
        "\n",
        "import copy ## to implement shallow copy. See copy in python\n",
        "\n",
        "from bnlp import NLTKTokenizer\n",
        "from bnlp import POS\n",
        "bn_pos = POS()\n",
        "model_path = \"/content/drive/My Drive/Thesis/bn_pos_model.pkl\"\n",
        "for i in range(len(sentences)):\n",
        "    text = sentences[i]\n",
        "    bnltk = NLTKTokenizer()\n",
        "    \n",
        "    \n",
        "    word_tokens = bnltk.word_tokenize(text)\n",
        "    word_tokens_copy = copy.copy(word_tokens)\n",
        "#     word_tokens_list.append(word_tokens)\n",
        "    \n",
        "    \n",
        "    sentence_tokens = bnltk.sentence_tokenize(text)\n",
        "    sentence_tokens_list.append(sentence_tokens)\n",
        "    \n",
        "    for j in range(len(word_tokens)):\n",
        "        word = word_tokens[j]    \n",
        "        pos_tags = bn_pos.tag(model_path, word)\n",
        "        \n",
        "        if(pos_tags[0][1] == \"PU\"):\n",
        "            word_tokens_copy.remove(str(word))\n",
        "\n",
        "            \n",
        "    word_tokens_list.append(word_tokens_copy)\n",
        "\n",
        "            \n",
        "\n",
        "print(\"\\n Sentence Tokens\")\n",
        "print(sentence_tokens_list[:3])\n",
        "\n",
        "print(\"\\n Word Tokens\")\n",
        "print(word_tokens_list[:3])\n",
        "\n",
        "\n"
      ],
      "execution_count": null,
      "outputs": [
        {
          "output_type": "stream",
          "text": [
            "[nltk_data] Downloading package punkt to /root/nltk_data...\n",
            "[nltk_data]   Unzipping tokenizers/punkt.zip.\n"
          ],
          "name": "stdout"
        },
        {
          "output_type": "stream",
          "text": [
            "/usr/local/lib/python3.7/dist-packages/gensim/similarities/__init__.py:15: UserWarning: The gensim.similarities.levenshtein submodule is disabled, because the optional Levenshtein package <https://pypi.org/project/python-Levenshtein/> is unavailable. Install Levenhstein (e.g. `pip install python-Levenshtein`) to suppress this warning.\n",
            "  warnings.warn(msg)\n"
          ],
          "name": "stderr"
        },
        {
          "output_type": "stream",
          "text": [
            "\n",
            " Sentence Tokens\n",
            "[['বই টি আমার সংগ্রহে আছে এবং তা আমি পড়েছি।', 'বই টি সম্পর্কে যদি এক কথায় বলতে হয় তবে বলবো মন্দের ভালো ।', 'খুবই সাধারন মানের আলোচনা করা হয়েছে ফরেক্স নিয়ে,তবে অপ্রয়োজনীয় গল্প লিখে আর নিজের প্রকাশিত বইয়ের বিজ্ঞাপন দিযে বইয়ের পেজের সংখ্যা বাড়ানো হয়েছে শুধু , কয়েকটি উদাহরন দিলে বুঝতে পারবে : ফরেন রেমিটেন্স কি,কিভাবে দেশের কাজে লাগে,কিভাবে ইমেল এড্রেস খুলতে হয় এসব আলাপ করা হয়েছে, কিন্তু লেখক তার বই তে ডিফল্ট করা কোন ইন্ডিকেটর,ই.এ,ট্রেডিং প্ল্যান, মানি মেনেজমেন্টে ইত্যাদি নিয়ে এক বর্ন আলোচনা করেন নাই।', 'এমন কি ট্রেডিং প্লাটফর্মের বিভিন্ন অপশন নিয়ে দায়সারা বর্নণা দিয়েছেন, সাথে রয়েছে অসংখ্য বানান ভুল।', 'বইয়ের ৪৭৯ টি পেজের মধ্য ৩২২ থেকে ৪৭৯ নাম্বার পেজ পর্যন্ত ১৫৭ টি পেজে যা রয়েছে তা ‘অতিকথন’ বা “পুনরায় প্রচার” ছাড়া কিছুই না .একটি টিউটোরিয়াল সিডি দেয়া হয়েছে, তা অতি স্বল্প আলোচনা করা হয়েছে।'], ['ফালতু বই।', 'শুধু শুধু টাকা নষ্ট।'], ['একটু পড়ে দেখতে বলসিলো, একটু পড়লাম।', 'তারপর হড়হড় করে বমি করে দিলাম।', 'কেনার সাহস পাই নি।', 'রিভিউতে আর নাই গেলাম।', 'অনেকে রিভিউ দিছে।', 'শুধু এইটুকু বলবো, দিনশেষে এদের রিভিউ দিয়ে থামানো যাবেনা।', 'এরা কেয়ার করে নাকে কি বললো না বললো।']]\n",
            "\n",
            " Word Tokens\n",
            "[['বই', 'টি', 'আমার', 'সংগ্রহে', 'আছে', 'এবং', 'তা', 'আমি', 'পড়েছি', 'বই', 'টি', 'সম্পর্কে', 'যদি', 'এক', 'কথায়', 'বলতে', 'হয়', 'তবে', 'বলবো', 'মন্দের', 'ভালো', 'খুবই', 'সাধারন', 'মানের', 'আলোচনা', 'করা', 'হয়েছে', 'ফরেক্স', 'নিয়ে', 'তবে', 'অপ্রয়োজনীয়', 'গল্প', 'লিখে', 'আর', 'নিজের', 'প্রকাশিত', 'বইয়ের', 'বিজ্ঞাপন', 'দিযে', 'বইয়ের', 'পেজের', 'সংখ্যা', 'হয়েছে', 'শুধু', 'কয়েকটি', 'উদাহরন', 'দিলে', 'বুঝতে', 'পারবে', 'ফরেন', 'রেমিটেন্স', 'কি', 'কিভাবে', 'দেশের', 'কাজে', 'লাগে', 'কিভাবে', 'ইমেল', 'এড্রেস', 'খুলতে', 'হয়', 'এসব', 'আলাপ', 'করা', 'হয়েছে', 'কিন্তু', 'লেখক', 'তার', 'বই', 'তে', 'ডিফল্ট', 'করা', 'কোন', 'ইন্ডিকেটর', 'ই.এ', 'ট্রেডিং', 'প্ল্যান', 'মানি', 'মেনেজমেন্টে', 'ইত্যাদি', 'নিয়ে', 'এক', 'বর্ন', 'আলোচনা', 'করেন', 'নাই', 'এমন', 'কি', 'ট্রেডিং', 'প্লাটফর্মের', 'বিভিন্ন', 'অপশন', 'নিয়ে', 'দায়সারা', 'বর্নণা', 'দিয়েছেন', 'সাথে', 'রয়েছে', 'অসংখ্য', 'বানান', 'ভুল', 'বইয়ের', '৪৭৯', 'টি', 'পেজের', 'মধ্য', '৩২২', 'থেকে', '৪৭৯', 'নাম্বার', 'পেজ', 'পর্যন্ত', '১৫৭', 'টি', 'পেজে', 'যা', 'রয়েছে', 'তা', 'অতিকথন', 'বা', 'পুনরায়', 'প্রচার', 'ছাড়া', 'কিছুই', 'না', '।একটি', 'টিউটোরিয়াল', 'সিডি', 'দেয়া', 'হয়েছে', 'তা', 'অতি', 'স্বল্প', 'আলোচনা', 'করা', 'হয়েছে'], ['ফালতু', 'বই', 'শুধু', 'শুধু', 'টাকা', 'নষ্ট'], ['একটু', 'পড়ে', 'দেখতে', 'বলসিলো', 'একটু', 'পড়লাম', 'তারপর', 'করে', 'বমি', 'করে', 'দিলাম', 'কেনার', 'সাহস', 'পাই', 'নি', 'রিভিউতে', 'আর', 'নাই', 'গেলাম', 'অনেকে', 'রিভিউ', 'দিছে', 'শুধু', 'বলবো', 'দিনশেষে', 'এদের', 'রিভিউ', 'দিয়ে', 'থামানো', 'যাবেনা', 'এরা', 'কেয়ার', 'করে', 'নাকে', 'কি', 'বললো', 'না', 'বললো']]\n"
          ],
          "name": "stdout"
        }
      ]
    },
    {
      "cell_type": "code",
      "metadata": {
        "id": "Vl4qm3-f54Mq"
      },
      "source": [
        "## We are creating word tokens first in 'word_tokens' . Then a shallow copy is made of 'word_tokens' to \n",
        "## 'word_tokens_copy'. We then check the POS tag of the tokens and if any one of them is \"PU\" (i.e punctuation)\n",
        "## then we remove it from 'word_tokens_copy'. After iterating through all the tokens (hence removing all the \"PU\")\n",
        "## we add 'word_tokens_copy' to 'word_tokens_list' .\n",
        "\n",
        "## All these mess is done to remove the error 'list index out of range' while removing an element"
      ],
      "execution_count": null,
      "outputs": []
    },
    {
      "cell_type": "code",
      "metadata": {
        "id": "qW_zFznTanUR"
      },
      "source": [],
      "execution_count": null,
      "outputs": []
    },
    {
      "cell_type": "code",
      "metadata": {
        "id": "4-LOTHzv585g"
      },
      "source": [
        "import copy\n",
        "copy_of_word_tokens_list = [] ## It is costly to compute \"word_tokens_list\".\n",
        "                            ## So I'm keeping an copy so that I can experiment with one and change it as wish\n",
        "copy_of_word_tokens_list.clear()\n",
        "copy_of_word_tokens_list = copy.copy(word_tokens_list)"
      ],
      "execution_count": null,
      "outputs": []
    },
    {
      "cell_type": "code",
      "metadata": {
        "id": "mk06ZIdrOW17"
      },
      "source": [],
      "execution_count": null,
      "outputs": []
    },
    {
      "cell_type": "code",
      "metadata": {
        "id": "q-VC1FndygJz"
      },
      "source": [
        "word_tokens_list = copy.copy(copy_of_word_tokens_list)"
      ],
      "execution_count": null,
      "outputs": []
    },
    {
      "cell_type": "markdown",
      "metadata": {
        "id": "9mWqZ6mnsmOw"
      },
      "source": [
        "While removing punctations, there were some english sentence and they were removed. So, with the following block, I'm removing those empty arrays. In this way, we have no english sentance in the dataset. The dataset consists of only the Bangla Sentences."
      ]
    },
    {
      "cell_type": "code",
      "metadata": {
        "colab": {
          "base_uri": "https://localhost:8080/"
        },
        "id": "ICwV96g054M5",
        "outputId": "07702754-dd7d-477e-d7f0-2f61754443a7"
      },
      "source": [
        "\n",
        "\n",
        "remove_counter = 0  ## to check if any array is removed for being empty\n",
        "token_lngth = 0\n",
        "token_length = len(word_tokens_list) ## to iterate over the whole \"word_tokens_list\" array\n",
        "empty_positions = [] ## keep track of empty positions\n",
        "empty_positions.clear()\n",
        "print(token_length) ## How many positions are empty actually \n",
        "\n",
        "for i in range(token_length):\n",
        "    if(len(copy_of_word_tokens_list[i]) == 0):\n",
        "        word_tokens_list.pop(i)\n",
        "        empty_positions.append(i)\n",
        "        remove_counter += 1\n",
        "        print(\"a\")\n",
        "        \n",
        "        \n",
        "print(remove_counter)"
      ],
      "execution_count": null,
      "outputs": [
        {
          "output_type": "stream",
          "text": [
            "2011\n",
            "a\n",
            "a\n",
            "2\n"
          ],
          "name": "stdout"
        }
      ]
    },
    {
      "cell_type": "code",
      "metadata": {
        "colab": {
          "base_uri": "https://localhost:8080/"
        },
        "id": "FvtpzV9Z54M0",
        "outputId": "2fceeba5-c2ef-40c0-c1ef-73142a781bae"
      },
      "source": [
        "print(len(word_tokens_list))\n",
        "\n",
        "print(len(sentence_tokens_list))\n"
      ],
      "execution_count": null,
      "outputs": [
        {
          "output_type": "stream",
          "text": [
            "2009\n",
            "2011\n"
          ],
          "name": "stdout"
        }
      ]
    },
    {
      "cell_type": "markdown",
      "metadata": {
        "id": "QdoRzpxdtXRF"
      },
      "source": [
        "# Word2vec\n",
        "\n",
        "Now we will generate our own wordvector model from all the words in our dataset which will be used laater to generate embeddding matrix. If are new and don't know about what wordvector and embedding matrix are, please go google it, you will have some great help.\n",
        "\n",
        "\n",
        "To generate wordvector model, we'll use gensim word2vec with skip-gram model."
      ]
    },
    {
      "cell_type": "code",
      "metadata": {
        "id": "PESR1sX_54NA"
      },
      "source": [
        "#word2vec\n",
        "import json\n",
        "import os\n",
        "import re\n",
        "import string\n",
        "import numpy as np\n",
        "\n",
        "from gensim.models import Word2Vec\n"
      ],
      "execution_count": null,
      "outputs": []
    },
    {
      "cell_type": "code",
      "metadata": {
        "id": "4pZYpItl54NH"
      },
      "source": [
        "model1 =Word2Vec(word_tokens_list, vector_size=100, window=15, min_count=1,sg=0)\n",
        "#model2 =Word2Vec.load('bn_w2v_model.text')\n",
        "model1.wv.save_word2vec_format(\"/content/drive/My Drive/Thesis/myword2vec_model.txt\")"
      ],
      "execution_count": null,
      "outputs": []
    },
    {
      "cell_type": "markdown",
      "metadata": {
        "id": "qBeNnT8Lt_qP"
      },
      "source": [
        "Let's see an example how words are stored in wordvector"
      ]
    },
    {
      "cell_type": "code",
      "metadata": {
        "colab": {
          "base_uri": "https://localhost:8080/"
        },
        "id": "OMXTHO6754NN",
        "scrolled": false,
        "outputId": "91bf174e-e5cb-47ca-eddb-67f5b5b904f5"
      },
      "source": [
        "model1.wv[\"ভালো\"]\n"
      ],
      "execution_count": null,
      "outputs": [
        {
          "output_type": "execute_result",
          "data": {
            "text/plain": [
              "array([-1.1438344e+00,  7.3054945e-01, -8.7438576e-02,  1.0434573e-01,\n",
              "        2.7260277e-01, -1.7529709e+00,  3.7019753e-01,  1.6869632e+00,\n",
              "       -2.1160957e-01, -3.6428714e-01, -1.8073250e-01, -1.4348829e+00,\n",
              "       -5.5754269e-03,  4.7219008e-01,  1.4502580e-01, -1.1239703e+00,\n",
              "       -5.2230485e-02, -1.4303710e+00,  4.5375493e-01, -1.6870745e+00,\n",
              "        1.0331979e+00,  4.6281594e-01, -2.4726075e-01, -5.9194690e-01,\n",
              "       -1.7322426e-01, -2.7670780e-02, -1.0036927e+00, -4.3307734e-01,\n",
              "       -9.6143448e-01, -6.9311666e-01,  1.3974583e+00,  3.9957961e-01,\n",
              "        8.9171439e-01, -6.8926048e-01, -5.2386121e-04,  6.2741798e-01,\n",
              "       -7.4297301e-02, -4.7375783e-01, -4.6892610e-01, -1.6833508e+00,\n",
              "        1.4988506e-01, -9.8816776e-01, -5.0224972e-01,  3.1082770e-01,\n",
              "        7.0853299e-01, -4.9724510e-01, -2.5598937e-01,  6.3051716e-03,\n",
              "        7.0528722e-01,  5.1920050e-01,  5.3578210e-01, -6.3927805e-01,\n",
              "        4.1061541e-01,  3.8178885e-01, -3.7251264e-01,  3.2754481e-01,\n",
              "        5.0099432e-01, -6.6257864e-03, -7.6382840e-01,  9.9974149e-01,\n",
              "        5.0670689e-01,  4.4989872e-01, -6.4456266e-01, -1.5446407e-01,\n",
              "       -4.8903894e-01,  3.8235894e-01, -1.7983709e-01,  8.8237751e-01,\n",
              "       -7.5116295e-01,  1.0707003e+00, -7.1614307e-01, -2.3594667e-01,\n",
              "        1.2865558e+00, -3.0714506e-01,  1.2337863e+00, -2.9856995e-02,\n",
              "       -7.1472794e-02, -4.1134822e-01, -8.9749080e-01, -1.3201019e-01,\n",
              "       -8.5054404e-01,  3.8798460e-01, -1.1629376e+00,  1.1424431e+00,\n",
              "       -5.9735173e-01, -3.6377770e-01,  7.9967213e-01,  4.1507614e-01,\n",
              "        8.8165241e-01,  9.1383271e-02,  1.0091648e+00,  3.4031013e-01,\n",
              "       -3.3584565e-01,  4.6735638e-01,  2.0926409e+00,  9.5308393e-01,\n",
              "        1.6516995e-01, -6.9657397e-01,  4.7174767e-02, -7.1647912e-02],\n",
              "      dtype=float32)"
            ]
          },
          "metadata": {
            "tags": []
          },
          "execution_count": 24
        }
      ]
    },
    {
      "cell_type": "code",
      "metadata": {
        "colab": {
          "base_uri": "https://localhost:8080/"
        },
        "id": "6JR3KcMz54NW",
        "outputId": "bd0e393e-55c6-432d-d3e4-1412ceba2f2f"
      },
      "source": [
        "y = movie_reviews['Sentiment']\n",
        "\n",
        "print(len(y))\n"
      ],
      "execution_count": null,
      "outputs": [
        {
          "output_type": "stream",
          "text": [
            "2011\n"
          ],
          "name": "stdout"
        }
      ]
    },
    {
      "cell_type": "markdown",
      "metadata": {
        "id": "W7BsCxy1uInT"
      },
      "source": [
        "In the following block, we'll remove the label of corresponding english sentances from dataset, as we have removed them previously."
      ]
    },
    {
      "cell_type": "code",
      "metadata": {
        "colab": {
          "base_uri": "https://localhost:8080/"
        },
        "id": "pDeZrSbE54Nb",
        "outputId": "dd5c33ca-e5ef-45d7-814a-ef4660670e53"
      },
      "source": [
        "\n",
        "for i in range(len(empty_positions)):\n",
        "    y.pop(empty_positions[i])\n",
        "\n",
        "print(len(y))\n"
      ],
      "execution_count": null,
      "outputs": [
        {
          "output_type": "stream",
          "text": [
            "2009\n"
          ],
          "name": "stdout"
        }
      ]
    },
    {
      "cell_type": "code",
      "metadata": {
        "id": "LbRqLefVueqw"
      },
      "source": [],
      "execution_count": null,
      "outputs": []
    },
    {
      "cell_type": "markdown",
      "metadata": {
        "id": "2rEBpS5Judbz"
      },
      "source": [
        "# Train-Test Split\n",
        "\n",
        "now we'll devide the total data into train and test set. I hae taken 10% data for test. Feel free to chose the percentage as you choice"
      ]
    },
    {
      "cell_type": "code",
      "metadata": {
        "colab": {
          "base_uri": "https://localhost:8080/"
        },
        "id": "qn3m51kO54Nf",
        "outputId": "ab092e7d-7b4f-4023-bc6d-07871dfa2a4c"
      },
      "source": [
        "X_train, X_test, y_train, y_test = train_test_split(word_tokens_list, y, test_size=0.10, random_state=42)\n",
        "\n",
        "print(X_train[:5])\n",
        "print(y_train[:5])"
      ],
      "execution_count": null,
      "outputs": [
        {
          "output_type": "stream",
          "text": [
            "[['বইটি', 'খুবই', 'তথ্য', 'বহুল', 'ও', 'সময়োপযোগী', 'আমার', 'খুবই', 'ভালো', 'লেগেছে'], ['অপেক্ষা', 'একটি', 'নিন্ম', 'মানের', 'উপন্যাস', 'অনেকটা', 'ইন্ডিয়ান', 'বাংলা', 'সিরিয়াল', 'এর', 'মত', 'ছোট', 'একটি', 'সংলাপ', 'কে', 'টেনে', 'হিছড়ে', 'লম্বা', 'করা', 'হয়েছে', 'তাও', 'খুব', 'বাজে', 'ভাবে', 'এর', 'ফোন', 'অালাপ', 'এ', 'না', 'হতো', 'এটা', 'বেশি', 'হয়ে', 'গেছে', 'খুবই', 'কাচা', 'লেখা', 'এটা', 'যে', 'লেখক', 'এর', 'উপন্যাস', 'সেটা', 'তার', 'লেখাতে', 'স্পষ্ট', 'অার', 'অনেক', 'জায়গায়', 'অসংগতি', 'রয়েছে', 'সব', 'মিলিয়ে', 'অপেক্ষা', 'অামার', 'শুধু', 'অাক্ষেপ', 'ই', 'বাড়িয়েছে'], ['এই', 'বই', 'কোনো', 'মেয়েই', 'পড়তে', 'স্বাচ্ছন্দ্য', 'বোধ', 'করবে', 'না', 'কোনো', 'মেয়েই', 'তার', 'পরিচিত', 'মানুষজনদের', 'বলতে', 'পারবে', 'না', 'যে', 'এই', 'বইটি', 'পড়ুন', 'অশ্লীল', 'নোংরা', 'ও', 'ফালতু', 'একটা', 'বই'], ['দক্ষতা', 'আর', 'অভিজ্ঞতা', 'দুইটা', 'ভিন্ন', 'জিনিস', 'দুইটাকে', 'আপনি', 'যখন', 'সমান', 'তালে', 'কাজে', 'লাগাতে', 'পারবেন', 'তখনই', 'আপনি', 'একজন', 'সাধারণ', 'জীবন', 'থেকে', 'অসাধারণ', 'জীবন', 'লাভের', 'টিকিটটি', 'পাবেন।আর', 'এই', 'দুইটাকে', 'সুন্দর', 'ভাবে', 'ব্যবহারের', 'জন্য', 'যেটা', 'দরকার', 'সেটা', 'হলো', 'সুকৌশল', 'মাস্টার', 'পাসওয়ার্ড', 'বইটিতে', 'খুবই', 'সুন্দর', 'ভাবে', 'সফল', 'হবার', 'কৌশলগুলো', 'খুব', 'সুন্দরভাবে', 'বর্ণনা', 'করা', 'আসে', 'বইটি', 'পরে', 'আমি', 'খুবই', 'মজা', 'পেয়েছি', 'জনাব', 'গাজী', 'ইয়ার', 'মোহাম্মদ', 'এবং', 'জনাব', 'এম', 'মোর্শেদ', 'হায়দার', 'সাহেবকে', 'অসংখ্য', 'ধন্যবাদ', 'এমন', 'সুন্দর', 'একটা', 'বই', 'উপদের', 'দেয়ার', 'জন্য'], ['খুব', 'অল্প', 'তথ্য', 'তবে', 'যা', 'স্পষ্ট', 'তা', \"হ'ল\", 'প্রয়োজনীয়', 'সমস্ত', 'কিছু', 'পেতে', 'আপনাকে', 'প্রচুর', 'অর্থ', 'ব্যয়', 'করতে', 'হবে']]\n",
            "722     1\n",
            "50      0\n",
            "211     0\n",
            "1303    1\n",
            "1791    0\n",
            "Name: Sentiment, dtype: int64\n"
          ],
          "name": "stdout"
        }
      ]
    },
    {
      "cell_type": "code",
      "metadata": {
        "colab": {
          "base_uri": "https://localhost:8080/"
        },
        "id": "2t3WELIy6ITm",
        "outputId": "347a14ca-5fa1-494e-a2d5-d8122baa6670"
      },
      "source": [
        "print(len(X_train))\n",
        "\n",
        "len(X_test)"
      ],
      "execution_count": null,
      "outputs": [
        {
          "output_type": "stream",
          "text": [
            "1808\n"
          ],
          "name": "stdout"
        },
        {
          "output_type": "execute_result",
          "data": {
            "text/plain": [
              "201"
            ]
          },
          "metadata": {
            "tags": []
          },
          "execution_count": 28
        }
      ]
    },
    {
      "cell_type": "markdown",
      "metadata": {
        "id": "6Mih7IJDuxun"
      },
      "source": [
        "# Tokenization\n",
        "\n",
        "Neural networks can only work with numbers. But all we have are texts. So to feed them into neural-net, we must convert them to numbers. With Tokenizzation we have done it in the following block. Again, if you don't know what tokenization is, go search for it. "
      ]
    },
    {
      "cell_type": "code",
      "metadata": {
        "id": "RtHWxIG854Nk"
      },
      "source": [
        "\n",
        "tokenizer = Tokenizer(num_words=5000)\n",
        "tokenizer.fit_on_texts(X_train)\n",
        "\n",
        "X_train = tokenizer.texts_to_sequences(X_train)\n",
        "X_test = tokenizer.texts_to_sequences(X_test)"
      ],
      "execution_count": null,
      "outputs": []
    },
    {
      "cell_type": "markdown",
      "metadata": {
        "id": "4jNxV_E2vQga"
      },
      "source": [
        "Let's see the result of tokenization with an example"
      ]
    },
    {
      "cell_type": "code",
      "metadata": {
        "colab": {
          "base_uri": "https://localhost:8080/"
        },
        "id": "UbWaBNCi54Np",
        "outputId": "79eb2293-c364-41a5-cb12-63c35de09550"
      },
      "source": [
        "\n",
        "X_train[:5]"
      ],
      "execution_count": null,
      "outputs": [
        {
          "output_type": "execute_result",
          "data": {
            "text/plain": [
              "[[5, 42, 211, 1165, 37, 1166, 9, 42, 11, 51],\n",
              " [330,\n",
              "  6,\n",
              "  3065,\n",
              "  391,\n",
              "  96,\n",
              "  509,\n",
              "  1925,\n",
              "  103,\n",
              "  1435,\n",
              "  20,\n",
              "  82,\n",
              "  153,\n",
              "  6,\n",
              "  3066,\n",
              "  91,\n",
              "  745,\n",
              "  3067,\n",
              "  1926,\n",
              "  35,\n",
              "  32,\n",
              "  849,\n",
              "  15,\n",
              "  108,\n",
              "  136,\n",
              "  20,\n",
              "  976,\n",
              "  3068,\n",
              "  63,\n",
              "  4,\n",
              "  468,\n",
              "  69,\n",
              "  62,\n",
              "  97,\n",
              "  179,\n",
              "  42,\n",
              "  1927,\n",
              "  34,\n",
              "  69,\n",
              "  18,\n",
              "  36,\n",
              "  20,\n",
              "  96,\n",
              "  157,\n",
              "  29,\n",
              "  1928,\n",
              "  1929,\n",
              "  1930,\n",
              "  13,\n",
              "  331,\n",
              "  3069,\n",
              "  230,\n",
              "  60,\n",
              "  469,\n",
              "  330,\n",
              "  1436,\n",
              "  133,\n",
              "  3070,\n",
              "  240,\n",
              "  1931],\n",
              " [2,\n",
              "  1,\n",
              "  145,\n",
              "  1932,\n",
              "  77,\n",
              "  3071,\n",
              "  656,\n",
              "  137,\n",
              "  4,\n",
              "  145,\n",
              "  1932,\n",
              "  29,\n",
              "  1933,\n",
              "  3072,\n",
              "  106,\n",
              "  551,\n",
              "  4,\n",
              "  18,\n",
              "  2,\n",
              "  5,\n",
              "  1167,\n",
              "  1168,\n",
              "  850,\n",
              "  37,\n",
              "  138,\n",
              "  16,\n",
              "  1],\n",
              " [1437,\n",
              "  17,\n",
              "  552,\n",
              "  977,\n",
              "  978,\n",
              "  439,\n",
              "  1934,\n",
              "  98,\n",
              "  163,\n",
              "  3073,\n",
              "  3074,\n",
              "  241,\n",
              "  1935,\n",
              "  353,\n",
              "  1169,\n",
              "  98,\n",
              "  101,\n",
              "  315,\n",
              "  248,\n",
              "  28,\n",
              "  25,\n",
              "  248,\n",
              "  1170,\n",
              "  3075,\n",
              "  3076,\n",
              "  2,\n",
              "  1934,\n",
              "  40,\n",
              "  136,\n",
              "  3077,\n",
              "  8,\n",
              "  440,\n",
              "  231,\n",
              "  157,\n",
              "  256,\n",
              "  3078,\n",
              "  851,\n",
              "  1936,\n",
              "  104,\n",
              "  42,\n",
              "  40,\n",
              "  136,\n",
              "  510,\n",
              "  605,\n",
              "  1937,\n",
              "  15,\n",
              "  413,\n",
              "  365,\n",
              "  35,\n",
              "  354,\n",
              "  5,\n",
              "  139,\n",
              "  3,\n",
              "  42,\n",
              "  200,\n",
              "  441,\n",
              "  979,\n",
              "  1938,\n",
              "  1939,\n",
              "  1438,\n",
              "  7,\n",
              "  979,\n",
              "  852,\n",
              "  1940,\n",
              "  1941,\n",
              "  1439,\n",
              "  392,\n",
              "  61,\n",
              "  54,\n",
              "  40,\n",
              "  16,\n",
              "  1,\n",
              "  3079,\n",
              "  366,\n",
              "  8],\n",
              " [15,\n",
              "  980,\n",
              "  211,\n",
              "  30,\n",
              "  57,\n",
              "  1929,\n",
              "  49,\n",
              "  553,\n",
              "  1942,\n",
              "  266,\n",
              "  23,\n",
              "  355,\n",
              "  257,\n",
              "  332,\n",
              "  232,\n",
              "  1171,\n",
              "  31,\n",
              "  39]]"
            ]
          },
          "metadata": {
            "tags": []
          },
          "execution_count": 30
        }
      ]
    },
    {
      "cell_type": "markdown",
      "metadata": {
        "id": "7EAJfMWdvX4o"
      },
      "source": [
        "# Padding\n",
        "\n",
        "Padding is necessary as input to a neural network is alwaya fixed sized. But the sentences we are working on are of different lengths. With padding, we add extra zeros to make them of the same length. \n",
        "I have used post padding and set pad length to 100.  "
      ]
    },
    {
      "cell_type": "code",
      "metadata": {
        "id": "vhRU5i3a54N1"
      },
      "source": [
        "vocab_size = len(tokenizer.word_index) + 1\n",
        "\n",
        "# print(vocab_size)\n",
        "\n",
        "maxlen = 100\n",
        "\n",
        "X_train = pad_sequences(X_train, padding='post', maxlen=maxlen)\n",
        "X_test = pad_sequences(X_test, padding='post', maxlen=maxlen)"
      ],
      "execution_count": null,
      "outputs": []
    },
    {
      "cell_type": "code",
      "metadata": {
        "colab": {
          "base_uri": "https://localhost:8080/"
        },
        "id": "FqFLWu8M54N5",
        "outputId": "a1663a27-8edb-4aa8-9212-ca28de1c8284"
      },
      "source": [
        "X_train[:5]"
      ],
      "execution_count": null,
      "outputs": [
        {
          "output_type": "execute_result",
          "data": {
            "text/plain": [
              "array([[   5,   42,  211, 1165,   37, 1166,    9,   42,   11,   51,    0,\n",
              "           0,    0,    0,    0,    0,    0,    0,    0,    0,    0,    0,\n",
              "           0,    0,    0,    0,    0,    0,    0,    0,    0,    0,    0,\n",
              "           0,    0,    0,    0,    0,    0,    0,    0,    0,    0,    0,\n",
              "           0,    0,    0,    0,    0,    0,    0,    0,    0,    0,    0,\n",
              "           0,    0,    0,    0,    0,    0,    0,    0,    0,    0,    0,\n",
              "           0,    0,    0,    0,    0,    0,    0,    0,    0,    0,    0,\n",
              "           0,    0,    0,    0,    0,    0,    0,    0,    0,    0,    0,\n",
              "           0,    0,    0,    0,    0,    0,    0,    0,    0,    0,    0,\n",
              "           0],\n",
              "       [ 330,    6, 3065,  391,   96,  509, 1925,  103, 1435,   20,   82,\n",
              "         153,    6, 3066,   91,  745, 3067, 1926,   35,   32,  849,   15,\n",
              "         108,  136,   20,  976, 3068,   63,    4,  468,   69,   62,   97,\n",
              "         179,   42, 1927,   34,   69,   18,   36,   20,   96,  157,   29,\n",
              "        1928, 1929, 1930,   13,  331, 3069,  230,   60,  469,  330, 1436,\n",
              "         133, 3070,  240, 1931,    0,    0,    0,    0,    0,    0,    0,\n",
              "           0,    0,    0,    0,    0,    0,    0,    0,    0,    0,    0,\n",
              "           0,    0,    0,    0,    0,    0,    0,    0,    0,    0,    0,\n",
              "           0,    0,    0,    0,    0,    0,    0,    0,    0,    0,    0,\n",
              "           0],\n",
              "       [   2,    1,  145, 1932,   77, 3071,  656,  137,    4,  145, 1932,\n",
              "          29, 1933, 3072,  106,  551,    4,   18,    2,    5, 1167, 1168,\n",
              "         850,   37,  138,   16,    1,    0,    0,    0,    0,    0,    0,\n",
              "           0,    0,    0,    0,    0,    0,    0,    0,    0,    0,    0,\n",
              "           0,    0,    0,    0,    0,    0,    0,    0,    0,    0,    0,\n",
              "           0,    0,    0,    0,    0,    0,    0,    0,    0,    0,    0,\n",
              "           0,    0,    0,    0,    0,    0,    0,    0,    0,    0,    0,\n",
              "           0,    0,    0,    0,    0,    0,    0,    0,    0,    0,    0,\n",
              "           0,    0,    0,    0,    0,    0,    0,    0,    0,    0,    0,\n",
              "           0],\n",
              "       [1437,   17,  552,  977,  978,  439, 1934,   98,  163, 3073, 3074,\n",
              "         241, 1935,  353, 1169,   98,  101,  315,  248,   28,   25,  248,\n",
              "        1170, 3075, 3076,    2, 1934,   40,  136, 3077,    8,  440,  231,\n",
              "         157,  256, 3078,  851, 1936,  104,   42,   40,  136,  510,  605,\n",
              "        1937,   15,  413,  365,   35,  354,    5,  139,    3,   42,  200,\n",
              "         441,  979, 1938, 1939, 1438,    7,  979,  852, 1940, 1941, 1439,\n",
              "         392,   61,   54,   40,   16,    1, 3079,  366,    8,    0,    0,\n",
              "           0,    0,    0,    0,    0,    0,    0,    0,    0,    0,    0,\n",
              "           0,    0,    0,    0,    0,    0,    0,    0,    0,    0,    0,\n",
              "           0],\n",
              "       [  15,  980,  211,   30,   57, 1929,   49,  553, 1942,  266,   23,\n",
              "         355,  257,  332,  232, 1171,   31,   39,    0,    0,    0,    0,\n",
              "           0,    0,    0,    0,    0,    0,    0,    0,    0,    0,    0,\n",
              "           0,    0,    0,    0,    0,    0,    0,    0,    0,    0,    0,\n",
              "           0,    0,    0,    0,    0,    0,    0,    0,    0,    0,    0,\n",
              "           0,    0,    0,    0,    0,    0,    0,    0,    0,    0,    0,\n",
              "           0,    0,    0,    0,    0,    0,    0,    0,    0,    0,    0,\n",
              "           0,    0,    0,    0,    0,    0,    0,    0,    0,    0,    0,\n",
              "           0,    0,    0,    0,    0,    0,    0,    0,    0,    0,    0,\n",
              "           0]], dtype=int32)"
            ]
          },
          "metadata": {
            "tags": []
          },
          "execution_count": 32
        }
      ]
    },
    {
      "cell_type": "markdown",
      "metadata": {
        "id": "YDf658Orv1Ct"
      },
      "source": [
        "# Embedding matrix\n",
        "\n",
        "Now we'll generate our embedding matrix. We'll use our previously generated wordvector model to generate the embedding matrix which will later be used in the embedding layer of our Neural Network."
      ]
    },
    {
      "cell_type": "code",
      "metadata": {
        "id": "eT1qK6nY54N-"
      },
      "source": [
        "from numpy import array\n",
        "from numpy import asarray\n",
        "from numpy import zeros\n",
        "\n",
        "embeddings_dictionary = dict()\n",
        "glove_file = open('/content/drive/My Drive/Thesis/myword2vec_model.txt', encoding=\"utf8\")\n",
        "\n",
        "for line in glove_file:\n",
        "    records = line.split()\n",
        "    word = records[0]\n",
        "    vector_dimensions = asarray(records[1:], dtype='float32')\n",
        "\n",
        "    embeddings_dictionary [word] = vector_dimensions\n",
        "glove_file.close()\n",
        "\n",
        "\n",
        "embedding_matrix = zeros((vocab_size, 100))\n",
        "for word, index in tokenizer.word_index.items():\n",
        "\n",
        "    embedding_vector = embeddings_dictionary.get(word)\n",
        "\n",
        "    if embedding_vector is not None:\n",
        "        embedding_matrix[index] = embedding_vector\n"
      ],
      "execution_count": null,
      "outputs": []
    },
    {
      "cell_type": "code",
      "metadata": {
        "colab": {
          "base_uri": "https://localhost:8080/"
        },
        "id": "ggDg6oc954OB",
        "outputId": "d9456dfa-0064-4761-c617-a864c11cbf1a"
      },
      "source": [
        "embedding_matrix[10]\n"
      ],
      "execution_count": null,
      "outputs": [
        {
          "output_type": "execute_result",
          "data": {
            "text/plain": [
              "array([-1.31697488,  0.86575234, -0.08007181,  0.10611926,  0.32584873,\n",
              "       -2.0445683 ,  0.44457504,  1.98733318, -0.24773337, -0.41965625,\n",
              "       -0.20906639, -1.69857574,  0.05807006,  0.54387993,  0.18161957,\n",
              "       -1.33498001, -0.05315037, -1.66534376,  0.52957875, -1.97150922,\n",
              "        1.1987983 ,  0.52441549, -0.26637289, -0.6914677 , -0.23966518,\n",
              "       -0.01377133, -1.14439964, -0.53149259, -1.12472725, -0.79875064,\n",
              "        1.61752141,  0.46428043,  1.04433656, -0.80730581,  0.01385909,\n",
              "        0.74429929, -0.08574194, -0.60174358, -0.58057868, -2.0069859 ,\n",
              "        0.16885157, -1.1763531 , -0.6054945 ,  0.37554392,  0.8178888 ,\n",
              "       -0.5819999 , -0.30692679, -0.01323455,  0.80677122,  0.5854584 ,\n",
              "        0.6129126 , -0.78536528,  0.45565128,  0.39940235, -0.45558149,\n",
              "        0.38953075,  0.58301276, -0.00640096, -0.9076162 ,  1.18094838,\n",
              "        0.58840501,  0.50190049, -0.78913468, -0.18651257, -0.59567571,\n",
              "        0.46508354, -0.21308222,  1.05253685, -0.88981277,  1.26124644,\n",
              "       -0.84451836, -0.26962212,  1.53661358, -0.32384846,  1.44044805,\n",
              "       -0.01047175, -0.06265075, -0.50339282, -1.09585893, -0.1183015 ,\n",
              "       -1.01117766,  0.4752014 , -1.35786128,  1.34186983, -0.73710078,\n",
              "       -0.40985087,  0.94548011,  0.49084967,  1.03342485,  0.08499657,\n",
              "        1.19676328,  0.39281857, -0.39099395,  0.55074722,  2.43747234,\n",
              "        1.133865  ,  0.24750924, -0.83233023,  0.04876608, -0.10245468])"
            ]
          },
          "metadata": {
            "tags": []
          },
          "execution_count": 34
        }
      ]
    },
    {
      "cell_type": "code",
      "metadata": {
        "id": "Km2ld-Boz8gV"
      },
      "source": [],
      "execution_count": null,
      "outputs": []
    },
    {
      "cell_type": "markdown",
      "metadata": {
        "id": "ZuVC38XtwaEa"
      },
      "source": [
        "# Neural Network / Deep Learning model.\\\n",
        "\n",
        "All of our prerpocessing tasks are done! Now we'll build our deep learning model which will perform sentiment analysis for us. \n",
        "\n",
        "In my model, I have used a combination of CNN and RNN Layers with the Dense layers. \n",
        "\n",
        "I had done some hyper-parameter tuning for my model. Feel free to use your won model/layers/parameter as you want. This part is totally on you."
      ]
    },
    {
      "cell_type": "code",
      "metadata": {
        "id": "o4_mpb3ya9fU",
        "colab": {
          "base_uri": "https://localhost:8080/",
          "height": 231
        },
        "outputId": "e924c8ef-9dd1-4c59-a838-6a9696c851c7"
      },
      "source": [
        "from keras import Sequential, optimizers\n",
        "from keras.layers import Embedding, LSTM, Dense, Dropout,Bidirectional,ConvLSTM2D,GRU,SimpleRNN,RNN\n",
        "from keras import regularizers\n",
        "\n",
        "model2 = Sequential()\n",
        "embedding_layer = Embedding(vocab_size, 100,weights=[embedding_matrix], input_length=maxlen , trainable=True)\n",
        "model2.add(embedding_layer)\n",
        "\n",
        "model2.add (Bidirectional(LSTM(64,  return_sequences=True,kernel_regularizer=regularizers.l2(0.15))))\n",
        "\n",
        "model2.add(Conv1D(32, 4, activation='relu'))\n",
        "model2.add (LSTM(32,return_sequences=True, activation = 'tanh') )\n",
        "\n",
        "model2.add(Conv1D(16, 4, activation='relu'))\n",
        "\n",
        "model2.add(GlobalMaxPooling1D())\n",
        "\n",
        "model2.add (Dropout(0.4))\n",
        "\n",
        "model2.add(Dense(16,activation='relu'))\n",
        "\n",
        "\n",
        "model2.add(Dense(1, activation='sigmoid'))\n",
        "\n",
        "\n",
        "opt = optimizers.Adam(learning_rate=0.0001)\n",
        "#lr=0.0005\n",
        "model2.compile(optimizer=opt, loss='binary_crossentropy', metrics=['acc'])\n",
        "\n"
      ],
      "execution_count": 1,
      "outputs": [
        {
          "output_type": "error",
          "ename": "NameError",
          "evalue": "ignored",
          "traceback": [
            "\u001b[0;31m---------------------------------------------------------------------------\u001b[0m",
            "\u001b[0;31mNameError\u001b[0m                                 Traceback (most recent call last)",
            "\u001b[0;32m<ipython-input-1-b08a7b45cd3d>\u001b[0m in \u001b[0;36m<module>\u001b[0;34m()\u001b[0m\n\u001b[1;32m      4\u001b[0m \u001b[0;34m\u001b[0m\u001b[0m\n\u001b[1;32m      5\u001b[0m \u001b[0mmodel2\u001b[0m \u001b[0;34m=\u001b[0m \u001b[0mSequential\u001b[0m\u001b[0;34m(\u001b[0m\u001b[0;34m)\u001b[0m\u001b[0;34m\u001b[0m\u001b[0;34m\u001b[0m\u001b[0m\n\u001b[0;32m----> 6\u001b[0;31m \u001b[0membedding_layer\u001b[0m \u001b[0;34m=\u001b[0m \u001b[0mEmbedding\u001b[0m\u001b[0;34m(\u001b[0m\u001b[0mvocab_size\u001b[0m\u001b[0;34m,\u001b[0m \u001b[0;36m100\u001b[0m\u001b[0;34m,\u001b[0m\u001b[0mweights\u001b[0m\u001b[0;34m=\u001b[0m\u001b[0;34m[\u001b[0m\u001b[0membedding_matrix\u001b[0m\u001b[0;34m]\u001b[0m\u001b[0;34m,\u001b[0m \u001b[0minput_length\u001b[0m\u001b[0;34m=\u001b[0m\u001b[0mmaxlen\u001b[0m \u001b[0;34m,\u001b[0m \u001b[0mtrainable\u001b[0m\u001b[0;34m=\u001b[0m\u001b[0;32mTrue\u001b[0m\u001b[0;34m)\u001b[0m\u001b[0;34m\u001b[0m\u001b[0;34m\u001b[0m\u001b[0m\n\u001b[0m\u001b[1;32m      7\u001b[0m \u001b[0mmodel2\u001b[0m\u001b[0;34m.\u001b[0m\u001b[0madd\u001b[0m\u001b[0;34m(\u001b[0m\u001b[0membedding_layer\u001b[0m\u001b[0;34m)\u001b[0m\u001b[0;34m\u001b[0m\u001b[0;34m\u001b[0m\u001b[0m\n\u001b[1;32m      8\u001b[0m \u001b[0;34m\u001b[0m\u001b[0m\n",
            "\u001b[0;31mNameError\u001b[0m: name 'vocab_size' is not defined"
          ]
        }
      ]
    },
    {
      "cell_type": "markdown",
      "metadata": {
        "id": "znb_nKpoxXtW"
      },
      "source": [
        "Let's see the model's summary"
      ]
    },
    {
      "cell_type": "code",
      "metadata": {
        "colab": {
          "base_uri": "https://localhost:8080/"
        },
        "id": "nVBVUp8cekH-",
        "outputId": "2d9c002d-77c7-4c87-f9ea-79d897bbf174"
      },
      "source": [
        "model2.summary()"
      ],
      "execution_count": null,
      "outputs": [
        {
          "output_type": "stream",
          "text": [
            "Model: \"sequential_13\"\n",
            "_________________________________________________________________\n",
            "Layer (type)                 Output Shape              Param #   \n",
            "=================================================================\n",
            "embedding_13 (Embedding)     (None, 100, 100)          820800    \n",
            "_________________________________________________________________\n",
            "bidirectional_14 (Bidirectio (None, 100, 128)          84480     \n",
            "_________________________________________________________________\n",
            "conv1d_26 (Conv1D)           (None, 97, 32)            16416     \n",
            "_________________________________________________________________\n",
            "lstm_21 (LSTM)               (None, 97, 32)            8320      \n",
            "_________________________________________________________________\n",
            "conv1d_27 (Conv1D)           (None, 94, 16)            2064      \n",
            "_________________________________________________________________\n",
            "global_max_pooling1d_12 (Glo (None, 16)                0         \n",
            "_________________________________________________________________\n",
            "dropout_13 (Dropout)         (None, 16)                0         \n",
            "_________________________________________________________________\n",
            "dense_26 (Dense)             (None, 16)                272       \n",
            "_________________________________________________________________\n",
            "dense_27 (Dense)             (None, 1)                 17        \n",
            "=================================================================\n",
            "Total params: 932,369\n",
            "Trainable params: 932,369\n",
            "Non-trainable params: 0\n",
            "_________________________________________________________________\n"
          ],
          "name": "stdout"
        }
      ]
    },
    {
      "cell_type": "markdown",
      "metadata": {
        "id": "vDx_w5w2xbRf"
      },
      "source": [
        "# Train the model\n",
        "\n",
        "And train the model with our training data. Again, feel free to chose the batch_size, epochs etc as you wish."
      ]
    },
    {
      "cell_type": "code",
      "metadata": {
        "colab": {
          "base_uri": "https://localhost:8080/"
        },
        "id": "jqYXfnCwcHKj",
        "outputId": "b70cf771-8839-43ad-c300-11f9c5af1fb6"
      },
      "source": [
        "history = model2.fit(X_train, y_train, batch_size=32, epochs=70, verbose=1, validation_split=0.10)\n",
        "\n",
        "score = model2.evaluate(X_test, y_test, verbose=1)"
      ],
      "execution_count": null,
      "outputs": [
        {
          "output_type": "stream",
          "text": [
            "Epoch 1/70\n",
            "51/51 [==============================] - 7s 55ms/step - loss: 42.3759 - acc: 0.5262 - val_loss: 38.7907 - val_acc: 0.4972\n",
            "Epoch 2/70\n",
            "51/51 [==============================] - 2s 30ms/step - loss: 37.6770 - acc: 0.5336 - val_loss: 34.4743 - val_acc: 0.5083\n",
            "Epoch 3/70\n",
            "51/51 [==============================] - 2s 29ms/step - loss: 33.4769 - acc: 0.5682 - val_loss: 30.6185 - val_acc: 0.5249\n",
            "Epoch 4/70\n",
            "51/51 [==============================] - 1s 29ms/step - loss: 29.7262 - acc: 0.5681 - val_loss: 27.1711 - val_acc: 0.5470\n",
            "Epoch 5/70\n",
            "51/51 [==============================] - 1s 29ms/step - loss: 26.3711 - acc: 0.5797 - val_loss: 24.0880 - val_acc: 0.5912\n",
            "Epoch 6/70\n",
            "51/51 [==============================] - 1s 29ms/step - loss: 23.3757 - acc: 0.5529 - val_loss: 21.3323 - val_acc: 0.5912\n",
            "Epoch 7/70\n",
            "51/51 [==============================] - 1s 29ms/step - loss: 20.6896 - acc: 0.5862 - val_loss: 18.8714 - val_acc: 0.5912\n",
            "Epoch 8/70\n",
            "51/51 [==============================] - 1s 29ms/step - loss: 18.2984 - acc: 0.5985 - val_loss: 16.6754 - val_acc: 0.5525\n",
            "Epoch 9/70\n",
            "51/51 [==============================] - 1s 29ms/step - loss: 16.1607 - acc: 0.6038 - val_loss: 14.7092 - val_acc: 0.6022\n",
            "Epoch 10/70\n",
            "51/51 [==============================] - 1s 29ms/step - loss: 14.2462 - acc: 0.6370 - val_loss: 12.9206 - val_acc: 0.7238\n",
            "Epoch 11/70\n",
            "51/51 [==============================] - 2s 30ms/step - loss: 12.5112 - acc: 0.7135 - val_loss: 11.4126 - val_acc: 0.6409\n",
            "Epoch 12/70\n",
            "51/51 [==============================] - 2s 30ms/step - loss: 10.9837 - acc: 0.7499 - val_loss: 10.0534 - val_acc: 0.6906\n",
            "Epoch 13/70\n",
            "51/51 [==============================] - 1s 29ms/step - loss: 9.6636 - acc: 0.7852 - val_loss: 8.7757 - val_acc: 0.7901\n",
            "Epoch 14/70\n",
            "51/51 [==============================] - 1s 29ms/step - loss: 8.3998 - acc: 0.8779 - val_loss: 7.6548 - val_acc: 0.8508\n",
            "Epoch 15/70\n",
            "51/51 [==============================] - 1s 29ms/step - loss: 7.3910 - acc: 0.8802 - val_loss: 6.8168 - val_acc: 0.8398\n",
            "Epoch 16/70\n",
            "51/51 [==============================] - 1s 28ms/step - loss: 6.5104 - acc: 0.8906 - val_loss: 6.0042 - val_acc: 0.8729\n",
            "Epoch 17/70\n",
            "51/51 [==============================] - 2s 29ms/step - loss: 5.7672 - acc: 0.9042 - val_loss: 5.3763 - val_acc: 0.8343\n",
            "Epoch 18/70\n",
            "51/51 [==============================] - 2s 30ms/step - loss: 5.0761 - acc: 0.9263 - val_loss: 4.8296 - val_acc: 0.8011\n",
            "Epoch 19/70\n",
            "51/51 [==============================] - 1s 29ms/step - loss: 4.4803 - acc: 0.9251 - val_loss: 4.1784 - val_acc: 0.8840\n",
            "Epoch 20/70\n",
            "51/51 [==============================] - 1s 29ms/step - loss: 3.9084 - acc: 0.9602 - val_loss: 4.0557 - val_acc: 0.8066\n",
            "Epoch 21/70\n",
            "51/51 [==============================] - 2s 30ms/step - loss: 3.5461 - acc: 0.9267 - val_loss: 3.3079 - val_acc: 0.8895\n",
            "Epoch 22/70\n",
            "51/51 [==============================] - 1s 29ms/step - loss: 3.1207 - acc: 0.9514 - val_loss: 2.9300 - val_acc: 0.9116\n",
            "Epoch 23/70\n",
            "51/51 [==============================] - 2s 30ms/step - loss: 2.7104 - acc: 0.9686 - val_loss: 2.6394 - val_acc: 0.9116\n",
            "Epoch 24/70\n",
            "51/51 [==============================] - 1s 29ms/step - loss: 2.4085 - acc: 0.9752 - val_loss: 2.6642 - val_acc: 0.8508\n",
            "Epoch 25/70\n",
            "51/51 [==============================] - 1s 29ms/step - loss: 2.3267 - acc: 0.9150 - val_loss: 2.1540 - val_acc: 0.9171\n",
            "Epoch 26/70\n",
            "51/51 [==============================] - 1s 29ms/step - loss: 1.9932 - acc: 0.9555 - val_loss: 1.9378 - val_acc: 0.9227\n",
            "Epoch 27/70\n",
            "51/51 [==============================] - 1s 29ms/step - loss: 1.7646 - acc: 0.9656 - val_loss: 1.8159 - val_acc: 0.9061\n",
            "Epoch 28/70\n",
            "51/51 [==============================] - 1s 29ms/step - loss: 1.5738 - acc: 0.9785 - val_loss: 1.8755 - val_acc: 0.8619\n",
            "Epoch 29/70\n",
            "51/51 [==============================] - 2s 30ms/step - loss: 1.4739 - acc: 0.9673 - val_loss: 1.5263 - val_acc: 0.8950\n",
            "Epoch 30/70\n",
            "51/51 [==============================] - 1s 29ms/step - loss: 1.2978 - acc: 0.9808 - val_loss: 1.5144 - val_acc: 0.8950\n",
            "Epoch 31/70\n",
            "51/51 [==============================] - 2s 30ms/step - loss: 1.1965 - acc: 0.9808 - val_loss: 1.3764 - val_acc: 0.8840\n",
            "Epoch 32/70\n",
            "51/51 [==============================] - 2s 30ms/step - loss: 1.0957 - acc: 0.9797 - val_loss: 1.2435 - val_acc: 0.9006\n",
            "Epoch 33/70\n",
            "51/51 [==============================] - 1s 29ms/step - loss: 1.0115 - acc: 0.9843 - val_loss: 1.1656 - val_acc: 0.9171\n",
            "Epoch 34/70\n",
            "51/51 [==============================] - 1s 29ms/step - loss: 0.9577 - acc: 0.9783 - val_loss: 1.5502 - val_acc: 0.7569\n",
            "Epoch 35/70\n",
            "51/51 [==============================] - 1s 29ms/step - loss: 0.9747 - acc: 0.9453 - val_loss: 1.0092 - val_acc: 0.9171\n",
            "Epoch 36/70\n",
            "51/51 [==============================] - 1s 29ms/step - loss: 0.8184 - acc: 0.9840 - val_loss: 1.0507 - val_acc: 0.9006\n",
            "Epoch 37/70\n",
            "51/51 [==============================] - 1s 28ms/step - loss: 0.7791 - acc: 0.9782 - val_loss: 1.0759 - val_acc: 0.9116\n",
            "Epoch 38/70\n",
            "51/51 [==============================] - 1s 29ms/step - loss: 0.7156 - acc: 0.9881 - val_loss: 1.0060 - val_acc: 0.9171\n",
            "Epoch 39/70\n",
            "51/51 [==============================] - 1s 29ms/step - loss: 0.7000 - acc: 0.9838 - val_loss: 0.9933 - val_acc: 0.9006\n",
            "Epoch 40/70\n",
            "51/51 [==============================] - 2s 30ms/step - loss: 0.6499 - acc: 0.9878 - val_loss: 0.9643 - val_acc: 0.9006\n",
            "Epoch 41/70\n",
            "51/51 [==============================] - 2s 30ms/step - loss: 0.6183 - acc: 0.9911 - val_loss: 0.8466 - val_acc: 0.9171\n",
            "Epoch 42/70\n",
            "51/51 [==============================] - 1s 28ms/step - loss: 0.6022 - acc: 0.9819 - val_loss: 0.9790 - val_acc: 0.9006\n",
            "Epoch 43/70\n",
            "51/51 [==============================] - 1s 28ms/step - loss: 0.5677 - acc: 0.9903 - val_loss: 0.9563 - val_acc: 0.9116\n",
            "Epoch 44/70\n",
            "51/51 [==============================] - 1s 28ms/step - loss: 0.5290 - acc: 0.9969 - val_loss: 1.2420 - val_acc: 0.8508\n",
            "Epoch 45/70\n",
            "51/51 [==============================] - 1s 29ms/step - loss: 0.5352 - acc: 0.9863 - val_loss: 0.9865 - val_acc: 0.8950\n",
            "Epoch 46/70\n",
            "51/51 [==============================] - 2s 30ms/step - loss: 0.5312 - acc: 0.9861 - val_loss: 0.7329 - val_acc: 0.9061\n",
            "Epoch 47/70\n",
            "51/51 [==============================] - 2s 29ms/step - loss: 0.4785 - acc: 0.9952 - val_loss: 0.7963 - val_acc: 0.8895\n",
            "Epoch 48/70\n",
            "51/51 [==============================] - 1s 29ms/step - loss: 0.4739 - acc: 0.9873 - val_loss: 0.8339 - val_acc: 0.9061\n",
            "Epoch 49/70\n",
            "51/51 [==============================] - 1s 28ms/step - loss: 0.4546 - acc: 0.9941 - val_loss: 0.7564 - val_acc: 0.9116\n",
            "Epoch 50/70\n",
            "51/51 [==============================] - 1s 28ms/step - loss: 0.4403 - acc: 0.9920 - val_loss: 0.9208 - val_acc: 0.8895\n",
            "Epoch 51/70\n",
            "51/51 [==============================] - 1s 28ms/step - loss: 0.4676 - acc: 0.9776 - val_loss: 0.7018 - val_acc: 0.9171\n",
            "Epoch 52/70\n",
            "51/51 [==============================] - 1s 29ms/step - loss: 0.4602 - acc: 0.9780 - val_loss: 0.6936 - val_acc: 0.9171\n",
            "Epoch 53/70\n",
            "51/51 [==============================] - 2s 30ms/step - loss: 0.4174 - acc: 0.9922 - val_loss: 0.6852 - val_acc: 0.9116\n",
            "Epoch 54/70\n",
            "51/51 [==============================] - 1s 29ms/step - loss: 0.3970 - acc: 0.9932 - val_loss: 0.6767 - val_acc: 0.9171\n",
            "Epoch 55/70\n",
            "51/51 [==============================] - 2s 30ms/step - loss: 0.4066 - acc: 0.9880 - val_loss: 1.1183 - val_acc: 0.8398\n",
            "Epoch 56/70\n",
            "51/51 [==============================] - 1s 29ms/step - loss: 0.4206 - acc: 0.9870 - val_loss: 0.6548 - val_acc: 0.9061\n",
            "Epoch 57/70\n",
            "51/51 [==============================] - 1s 29ms/step - loss: 0.3783 - acc: 0.9950 - val_loss: 0.7259 - val_acc: 0.9061\n",
            "Epoch 58/70\n",
            "51/51 [==============================] - 1s 29ms/step - loss: 0.3750 - acc: 0.9894 - val_loss: 0.6774 - val_acc: 0.9116\n",
            "Epoch 59/70\n",
            "51/51 [==============================] - 2s 30ms/step - loss: 0.3696 - acc: 0.9895 - val_loss: 0.6181 - val_acc: 0.9171\n",
            "Epoch 60/70\n",
            "51/51 [==============================] - 2s 31ms/step - loss: 0.3690 - acc: 0.9857 - val_loss: 0.6679 - val_acc: 0.9116\n",
            "Epoch 61/70\n",
            "51/51 [==============================] - 2s 31ms/step - loss: 0.3550 - acc: 0.9951 - val_loss: 0.7537 - val_acc: 0.9061\n",
            "Epoch 62/70\n",
            "51/51 [==============================] - 1s 28ms/step - loss: 0.3480 - acc: 0.9892 - val_loss: 0.6920 - val_acc: 0.9061\n",
            "Epoch 63/70\n",
            "51/51 [==============================] - 1s 29ms/step - loss: 0.3386 - acc: 0.9952 - val_loss: 0.6658 - val_acc: 0.9171\n",
            "Epoch 64/70\n",
            "51/51 [==============================] - 1s 28ms/step - loss: 0.3402 - acc: 0.9924 - val_loss: 0.7025 - val_acc: 0.9061\n",
            "Epoch 65/70\n",
            "51/51 [==============================] - 1s 29ms/step - loss: 0.3249 - acc: 0.9933 - val_loss: 0.6627 - val_acc: 0.9116\n",
            "Epoch 66/70\n",
            "51/51 [==============================] - 2s 30ms/step - loss: 0.3165 - acc: 0.9914 - val_loss: 0.7265 - val_acc: 0.9116\n",
            "Epoch 67/70\n",
            "51/51 [==============================] - 2s 30ms/step - loss: 0.3099 - acc: 0.9956 - val_loss: 1.0504 - val_acc: 0.8674\n",
            "Epoch 68/70\n",
            "51/51 [==============================] - 1s 29ms/step - loss: 0.2981 - acc: 0.9959 - val_loss: 0.6471 - val_acc: 0.9282\n",
            "Epoch 69/70\n",
            "51/51 [==============================] - 1s 29ms/step - loss: 0.6301 - acc: 0.9274 - val_loss: 0.5249 - val_acc: 0.9006\n",
            "Epoch 70/70\n",
            "51/51 [==============================] - 1s 29ms/step - loss: 0.3127 - acc: 0.9957 - val_loss: 0.5141 - val_acc: 0.9171\n",
            "7/7 [==============================] - 0s 9ms/step - loss: 0.5335 - acc: 0.9104\n"
          ],
          "name": "stdout"
        }
      ]
    },
    {
      "cell_type": "markdown",
      "metadata": {
        "id": "qyBj-RskxtEN"
      },
      "source": [
        "# Plot the model's performance\n",
        "\n",
        "The following block will generate model's accuracy and loss graph with training and validation data."
      ]
    },
    {
      "cell_type": "code",
      "metadata": {
        "colab": {
          "base_uri": "https://localhost:8080/",
          "height": 1000
        },
        "id": "IEfI_LTo54OR",
        "outputId": "fb81496c-2c04-4694-9c43-e8d5535d3b6e"
      },
      "source": [
        "import matplotlib.pyplot as plt\n",
        "\n",
        "plt.figure(figsize=(10, 8))\n",
        "plt.plot(history.history['acc'])\n",
        "plt.plot(history.history['val_acc'])\n",
        "\n",
        "plt.title('model accuracy')\n",
        "plt.ylabel('accuracy')\n",
        "plt.xlabel('epoch')\n",
        "plt.legend(['train','validation'], loc = 'upper left')\n",
        "plt.savefig('/content/drive/My Drive/Thesis/model_Accuracy.png',dpi=600)\n",
        "\n",
        "plt.show()\n",
        "\n",
        "\n",
        "plt.figure(figsize=(10, 8))\n",
        "plt.plot(history.history['loss'])\n",
        "plt.plot(history.history['val_loss'])\n",
        "plt.title('model loss')\n",
        "plt.ylabel('loss')\n",
        "plt.xlabel('epoch')\n",
        "plt.legend(['train','validation'], loc = 'upper left')\n",
        "plt.savefig('/content/drive/My Drive/Thesis/model_loss.png', dpi=600)\n",
        "\n",
        "plt.show()"
      ],
      "execution_count": null,
      "outputs": [
        {
          "output_type": "display_data",
          "data": {
            "image/png": "[encoded data removed]",
            "text/plain": [
              "<Figure size 720x576 with 1 Axes>"
            ]
          },
          "metadata": {
            "tags": [],
            "needs_background": "light"
          }
        },
        {
          "output_type": "display_data",
          "data": {
            "image/png": "[encoded data removed]",
            "text/plain": [
              "<Figure size 720x576 with 1 Axes>"
            ]
          },
          "metadata": {
            "tags": [],
            "needs_background": "light"
          }
        }
      ]
    },
    {
      "cell_type": "markdown",
      "metadata": {
        "id": "3VTqAZxhyDoX"
      },
      "source": [
        "# Accuracy measures \n",
        "\n",
        "Now we will test our model with the test data that our model has never seen. \n",
        "\n",
        "We will check the accuracy, recall, precision and f-1 score."
      ]
    },
    {
      "cell_type": "code",
      "metadata": {
        "colab": {
          "base_uri": "https://localhost:8080/"
        },
        "id": "AHomTwMF54OW",
        "outputId": "5108e784-de7c-4b1b-d68b-34678d91dce9"
      },
      "source": [
        "from sklearn.metrics import accuracy_score\n",
        "from sklearn.metrics import precision_score\n",
        "from sklearn.metrics import recall_score\n",
        "from sklearn.metrics import f1_score\n",
        "from sklearn.metrics import confusion_matrix\n",
        "from sklearn.metrics import roc_curve,roc_auc_score\n",
        "\n",
        "\n",
        "\n",
        "yhat_classes = model2.predict_classes(X_test, verbose=1)\n",
        "yhat_classes = yhat_classes[:, 0]\n",
        "accuracy = accuracy_score(y_test, yhat_classes)\n",
        "\n",
        "# accuracy: (tp + tn) / (p + n)\n",
        "accuracy = accuracy_score(y_test, yhat_classes)\n",
        "print('Accuracy: %f' % accuracy)\n",
        "\n",
        "\n",
        "\n",
        "# precision tp / (tp + fp)\n",
        "precision = precision_score(y_test, yhat_classes)\n",
        "print('Precision: %f' % precision)\n",
        "\n",
        "\n",
        "# recall: tp / (tp + fn)\n",
        "recall = recall_score(y_test, yhat_classes)\n",
        "print('Recall: %f' % recall)\n",
        "\n",
        "\n",
        "\n",
        "# f1: 2 tp / (2 tp + fp + fn)\n",
        "f1 = f1_score(y_test, yhat_classes)\n",
        "print('F1 score: %f' % f1)\n",
        "\n",
        "\n",
        "# confusion matrix\n",
        "matrix = confusion_matrix(y_test, yhat_classes)\n",
        "print(matrix)\n",
        "\n"
      ],
      "execution_count": null,
      "outputs": [
        {
          "output_type": "stream",
          "text": [
            "7/7 [==============================] - 0s 12ms/step\n",
            "Accuracy: 0.925373\n",
            "Precision: 0.930693\n",
            "Recall: 0.921569\n",
            "F1 score: 0.926108\n",
            "[[92  7]\n",
            " [ 8 94]]\n"
          ],
          "name": "stdout"
        },
        {
          "output_type": "stream",
          "text": [
            "/usr/local/lib/python3.7/dist-packages/keras/engine/sequential.py:450: UserWarning: `model.predict_classes()` is deprecated and will be removed after 2021-01-01. Please use instead:* `np.argmax(model.predict(x), axis=-1)`,   if your model does multi-class classification   (e.g. if it uses a `softmax` last-layer activation).* `(model.predict(x) > 0.5).astype(\"int32\")`,   if your model does binary classification   (e.g. if it uses a `sigmoid` last-layer activation).\n",
            "  warnings.warn('`model.predict_classes()` is deprecated and '\n"
          ],
          "name": "stderr"
        }
      ]
    },
    {
      "cell_type": "code",
      "metadata": {
        "id": "NsYs-7F6wQWz"
      },
      "source": [],
      "execution_count": null,
      "outputs": []
    },
    {
      "cell_type": "markdown",
      "metadata": {
        "id": "9ERyTqSsyiiy"
      },
      "source": [
        "# Confusion Matrix"
      ]
    },
    {
      "cell_type": "code",
      "metadata": {
        "colab": {
          "base_uri": "https://localhost:8080/",
          "height": 497
        },
        "id": "f-S1REL454Oc",
        "outputId": "ec5e97f2-ab54-4536-f86b-529359e91f2e"
      },
      "source": [
        "# confusion_mtx = tf.math.confusion_matrix(y_true, y_pred) \n",
        "plt.figure(figsize=(10, 8))\n",
        "sns.heatmap(matrix, xticklabels='01', yticklabels='01', annot=True, fmt='g')\n",
        "\n",
        "\n",
        "plt.xlabel('Predicted Label')\n",
        "plt.ylabel('True Label')\n",
        "plt.savefig('/content/drive/My Drive/Thesis/confussion_matrix.png', dpi=600)\n",
        "\n",
        "plt.show()"
      ],
      "execution_count": null,
      "outputs": [
        {
          "output_type": "display_data",
          "data": {
            "image/png": "[encoded data removed]",
            "text/plain": [
              "<Figure size 720x576 with 2 Axes>"
            ]
          },
          "metadata": {
            "tags": [],
            "needs_background": "light"
          }
        }
      ]
    },
    {
      "cell_type": "markdown",
      "metadata": {
        "id": "3F7FfK6aynqA"
      },
      "source": [
        "# ROC curve"
      ]
    },
    {
      "cell_type": "code",
      "metadata": {
        "colab": {
          "base_uri": "https://localhost:8080/",
          "height": 295
        },
        "id": "QNYG1jMFwALG",
        "outputId": "17e2b48e-15ad-4e4d-fb84-967d42095173"
      },
      "source": [
        "fpr, tpr, _ = roc_curve(y_test,yhat_classes)\n",
        "# plt.figure(figsize=(14,8))\n",
        "plt.plot(fpr, tpr, color=\"red\")\n",
        "plt.plot([0, 1], [0, 1], color='black', lw=2, linestyle='--')\n",
        "plt.xlim([0.0, 1.0])\n",
        "plt.ylim([0.0, 1.05])\n",
        "plt.xlabel('False Positive Rate')\n",
        "plt.ylabel('True Positive Rate')\n",
        "plt.title('Roc curve')\n",
        "plt.savefig('/content/drive/My Drive/Thesis/roc_curve.png', dpi=600)\n",
        "\n",
        "plt.show()"
      ],
      "execution_count": null,
      "outputs": [
        {
          "output_type": "display_data",
          "data": {
            "image/png": "[encoded data removed]",
            "text/plain": [
              "<Figure size 432x288 with 1 Axes>"
            ]
          },
          "metadata": {
            "tags": [],
            "needs_background": "light"
          }
        }
      ]
    },
    {
      "cell_type": "code",
      "metadata": {
        "id": "eO9mIhvn9UGi"
      },
      "source": [],
      "execution_count": null,
      "outputs": []
    },
    {
      "cell_type": "code",
      "metadata": {
        "id": "iu8ike-M9T7F"
      },
      "source": [],
      "execution_count": null,
      "outputs": []
    }
  ]
}